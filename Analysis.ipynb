{
 "cells": [
  {
   "cell_type": "markdown",
   "metadata": {},
   "source": [
    "## This notebook will discover the different analysis for time series data. \n",
    "### For this illustation we will use economic and business data of Bangladesh"
   ]
  },
  {
   "cell_type": "code",
   "execution_count": 6,
   "metadata": {},
   "outputs": [],
   "source": [
    "# Import modules\n",
    "import pandas as pd\n",
    "import numpy as np\n",
    "import seaborn as sns\n",
    "from pymongo import MongoClient\n",
    "from decouple import config"
   ]
  },
  {
   "cell_type": "markdown",
   "metadata": {},
   "source": [
    "### Connection to database. For this we used mongodb database.\n",
    "### But you can use any sql or no sql database"
   ]
  },
  {
   "cell_type": "code",
   "execution_count": null,
   "metadata": {},
   "outputs": [],
   "source": [
    "MONGO_DETAILS = config('MONGO_DETAILS')\n",
    "port = 8000\n",
    "client = MongoClient(MONGO_DETAILS, port)\n",
    "db = client[\"DATATERMINAL\"]\n",
    "\n",
    "ED = db.get_collection('Economic Dashboard')\n",
    "BD = db.get_collection('Business Dashboard')\n",
    "ID = db.get_collection('Industry Dashboard')"
   ]
  }
 ],
 "metadata": {
  "interpreter": {
   "hash": "56a59b8a4a22bcf6e331ae2869424c9640d6ccc24a8b96440b3d47c8951e5f23"
  },
  "kernelspec": {
   "display_name": "Python 3.10.4 ('.venv': venv)",
   "language": "python",
   "name": "python3"
  },
  "language_info": {
   "codemirror_mode": {
    "name": "ipython",
    "version": 3
   },
   "file_extension": ".py",
   "mimetype": "text/x-python",
   "name": "python",
   "nbconvert_exporter": "python",
   "pygments_lexer": "ipython3",
   "version": "3.10.4"
  },
  "orig_nbformat": 4
 },
 "nbformat": 4,
 "nbformat_minor": 2
}
